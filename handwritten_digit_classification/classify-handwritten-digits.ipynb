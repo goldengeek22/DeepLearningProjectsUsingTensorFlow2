{
 "cells": [
  {
   "cell_type": "code",
   "execution_count": null,
   "id": "2f0b55cf-5258-4b5e-9b16-62f3a80f4521",
   "metadata": {},
   "outputs": [],
   "source": [
    "# In this project, we will use a single layer neural network to classify set of handwritten digits."
   ]
  },
  {
   "cell_type": "code",
   "execution_count": 1,
   "id": "25da2143-a7e4-4309-9e21-b8b159488d69",
   "metadata": {},
   "outputs": [
    {
     "name": "stderr",
     "output_type": "stream",
     "text": [
      "2024-06-13 02:18:55.065063: I tensorflow/core/platform/cpu_feature_guard.cc:182] This TensorFlow binary is optimized to use available CPU instructions in performance-critical operations.\n",
      "To enable the following instructions: SSE4.1 SSE4.2 AVX, in other operations, rebuild TensorFlow with the appropriate compiler flags.\n"
     ]
    }
   ],
   "source": [
    "# Import libraries\n",
    "import keras\n",
    "import tensorflow as tf"
   ]
  },
  {
   "cell_type": "code",
   "execution_count": 2,
   "id": "9c13b640-32c2-44d4-a5dc-447cb78f2df3",
   "metadata": {},
   "outputs": [
    {
     "name": "stdout",
     "output_type": "stream",
     "text": [
      "Downloading data from https://storage.googleapis.com/tensorflow/tf-keras-datasets/mnist.npz\n",
      "11490434/11490434 [==============================] - 3s 0us/step\n"
     ]
    }
   ],
   "source": [
    "# Read in the MNIST data from kera's collectio of datasets\n",
    "mnist_data = tf.keras.datasets.mnist\n",
    "# Split the data\n",
    "(x_train, y_train), (x_test, y_test) = mnist_data.load_data()"
   ]
  },
  {
   "cell_type": "code",
   "execution_count": 3,
   "id": "52f6b490-64ae-47d1-95eb-4fc2bc4f0f37",
   "metadata": {},
   "outputs": [],
   "source": [
    "# The MNIST dataset consists of two-dimensional images. Flaten them into one-dimensional images for convenience\n",
    "x_train, x_test = x_train / 255.0, x_test / 255.0"
   ]
  },
  {
   "cell_type": "code",
   "execution_count": 4,
   "id": "709af92f-e438-462b-8ef3-152dba002157",
   "metadata": {},
   "outputs": [
    {
     "name": "stderr",
     "output_type": "stream",
     "text": [
      "2024-06-13 02:45:23.244586: I tensorflow/core/common_runtime/process_util.cc:146] Creating new thread pool with default inter op setting: 2. Tune using inter_op_parallelism_threads for best performance.\n"
     ]
    }
   ],
   "source": [
    "# Create the neural network using the Sequential model with one hidden layer containing 10 neurons and the activation function is Softmax\n",
    "model = tf.keras.models.Sequential([\n",
    "    tf.keras.layers.Flatten(input_shape=(28, 28)),\n",
    "    tf.keras.layers.Dense(10, activation = 'softmax')\n",
    "])"
   ]
  },
  {
   "cell_type": "code",
   "execution_count": 5,
   "id": "5b22dd01-6a88-4a56-8e32-bf0a13625a5f",
   "metadata": {},
   "outputs": [],
   "source": [
    "# Compile the model: We will define the loss function as Sparse Categorical Cross Entropy, becuase the output can only be one of ten  \n",
    "# possible categories. To test the accuracy of the model, use the accuracy metric\n",
    "model.compile(optimizer='adam', loss='sparse_categorical_crossentropy', metrics=['accuracy'])"
   ]
  },
  {
   "cell_type": "code",
   "execution_count": 7,
   "id": "6f9173d6-ab01-4271-bfe5-4ea7e1ceae94",
   "metadata": {},
   "outputs": [
    {
     "name": "stdout",
     "output_type": "stream",
     "text": [
      "Epoch 1/3\n",
      "1875/1875 [==============================] - 13s 6ms/step - loss: 0.4656 - accuracy: 0.8785\n",
      "Epoch 2/3\n",
      "1875/1875 [==============================] - 9s 5ms/step - loss: 0.3036 - accuracy: 0.9155\n",
      "Epoch 3/3\n",
      "1875/1875 [==============================] - 11s 6ms/step - loss: 0.2834 - accuracy: 0.9210\n"
     ]
    },
    {
     "data": {
      "text/plain": [
       "<keras.callbacks.History at 0x7da93a592d50>"
      ]
     },
     "execution_count": 7,
     "metadata": {},
     "output_type": "execute_result"
    }
   ],
   "source": [
    "# Train the model\n",
    "model.fit(x_train, y_train, epochs=3)"
   ]
  },
  {
   "cell_type": "code",
   "execution_count": 8,
   "id": "324c3c0a-7a90-4cdd-b8bf-c5f4293634c2",
   "metadata": {},
   "outputs": [
    {
     "name": "stdout",
     "output_type": "stream",
     "text": [
      "313/313 [==============================] - 8s 23ms/step - loss: 0.2742 - accuracy: 0.9232\n"
     ]
    },
    {
     "data": {
      "text/plain": [
       "[0.27421078085899353, 0.9232000112533569]"
      ]
     },
     "execution_count": 8,
     "metadata": {},
     "output_type": "execute_result"
    }
   ],
   "source": [
    "# Evaluate the model\n",
    "model.evaluate(x_test, y_test)"
   ]
  },
  {
   "cell_type": "code",
   "execution_count": null,
   "id": "5147b8fa-0509-448a-a79b-e371aa23ffb9",
   "metadata": {},
   "outputs": [],
   "source": []
  }
 ],
 "metadata": {
  "kernelspec": {
   "display_name": "deep-learning-env",
   "language": "python",
   "name": "deep-learning-env"
  },
  "language_info": {
   "codemirror_mode": {
    "name": "ipython",
    "version": 3
   },
   "file_extension": ".py",
   "mimetype": "text/x-python",
   "name": "python",
   "nbconvert_exporter": "python",
   "pygments_lexer": "ipython3",
   "version": "3.11.5"
  }
 },
 "nbformat": 4,
 "nbformat_minor": 5
}

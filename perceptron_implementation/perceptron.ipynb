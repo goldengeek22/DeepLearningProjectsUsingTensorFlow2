{
 "cells": [
  {
   "cell_type": "code",
   "execution_count": 1,
   "id": "c38cdc5b-2649-479e-8712-53da5d090809",
   "metadata": {},
   "outputs": [
    {
     "name": "stderr",
     "output_type": "stream",
     "text": [
      "2024-06-11 18:35:21.814324: I tensorflow/core/platform/cpu_feature_guard.cc:182] This TensorFlow binary is optimized to use available CPU instructions in performance-critical operations.\n",
      "To enable the following instructions: SSE4.1 SSE4.2 AVX, in other operations, rebuild TensorFlow with the appropriate compiler flags.\n"
     ]
    }
   ],
   "source": [
    "import numpy as np\n",
    "import pandas as pd\n",
    "import tensorflow as tf\n",
    "\n",
    "from tensorflow import feature_column\n",
    "from tensorflow.keras import layers\n",
    "from sklearn.model_selection import train_test_split\n",
    "from sklearn.metrics import confusion_matrix\n",
    "from sklearn.metrics import accuracy_score\n",
    "\n",
    "import matplotlib.pyplot as plt"
   ]
  },
  {
   "cell_type": "code",
   "execution_count": 2,
   "id": "77871014-a2dd-44a8-9990-7abd5c62c750",
   "metadata": {},
   "outputs": [],
   "source": [
    "# Declare parameters\n",
    "Number_of_features = 2\n",
    "Number_of_units = 1  # indicates number of neurons"
   ]
  },
  {
   "cell_type": "code",
   "execution_count": 3,
   "id": "8d52f4ff-4b53-41f2-b093-7f8e56b4bcff",
   "metadata": {},
   "outputs": [
    {
     "name": "stderr",
     "output_type": "stream",
     "text": [
      "2024-06-11 18:35:49.777863: I tensorflow/core/common_runtime/process_util.cc:146] Creating new thread pool with default inter op setting: 2. Tune using inter_op_parallelism_threads for best performance.\n"
     ]
    }
   ],
   "source": [
    "# Declare the Weights and Bias\n",
    "weights = tf.Variable(tf.zeros([Number_of_features, Number_of_units]))  # initializing to zero\n",
    "bias = tf.Variable(tf.zeros([Number_of_units]))  # Initializing the bias to zero"
   ]
  },
  {
   "cell_type": "code",
   "execution_count": 4,
   "id": "073f91ff-9998-43b1-8760-14b26426d656",
   "metadata": {},
   "outputs": [],
   "source": [
    "# Define the Perceptron Function\n",
    "def perceptron(x):\n",
    "    I = tf.add(tf.matmul(x, weights), bias)  # Computes the matrix multiplication of x and weight\n",
    "    output = tf.sigmoid(I)  # Calculates the output using the Sigmoid activation function\n",
    "    return output"
   ]
  },
  {
   "cell_type": "code",
   "execution_count": 6,
   "id": "903c6569-28d2-41b7-8f93-882b9bf4f3bf",
   "metadata": {},
   "outputs": [],
   "source": [
    "# Define the Loss Function and Optimizer\n",
    "def individual_loss():\n",
    "    return abs(tf.reduce_mean(tf.nn.sigmoid_cross_entropy_with_logits(labels=y, logits=perceptron(x))))\n",
    "\n",
    "optimizer = tf.keras.optimizers.Adam(.01)"
   ]
  },
  {
   "cell_type": "code",
   "execution_count": 7,
   "id": "90dc31fb-9fc5-46df-9a63-316116f2dd47",
   "metadata": {},
   "outputs": [
    {
     "data": {
      "text/html": [
       "<div>\n",
       "<style scoped>\n",
       "    .dataframe tbody tr th:only-of-type {\n",
       "        vertical-align: middle;\n",
       "    }\n",
       "\n",
       "    .dataframe tbody tr th {\n",
       "        vertical-align: top;\n",
       "    }\n",
       "\n",
       "    .dataframe thead th {\n",
       "        text-align: right;\n",
       "    }\n",
       "</style>\n",
       "<table border=\"1\" class=\"dataframe\">\n",
       "  <thead>\n",
       "    <tr style=\"text-align: right;\">\n",
       "      <th></th>\n",
       "      <th>label</th>\n",
       "      <th>x1</th>\n",
       "      <th>x2</th>\n",
       "    </tr>\n",
       "  </thead>\n",
       "  <tbody>\n",
       "    <tr>\n",
       "      <th>0</th>\n",
       "      <td>1</td>\n",
       "      <td>2.6487</td>\n",
       "      <td>4.5192</td>\n",
       "    </tr>\n",
       "    <tr>\n",
       "      <th>1</th>\n",
       "      <td>1</td>\n",
       "      <td>1.5438</td>\n",
       "      <td>2.4443</td>\n",
       "    </tr>\n",
       "    <tr>\n",
       "      <th>2</th>\n",
       "      <td>1</td>\n",
       "      <td>1.8990</td>\n",
       "      <td>4.2409</td>\n",
       "    </tr>\n",
       "    <tr>\n",
       "      <th>3</th>\n",
       "      <td>1</td>\n",
       "      <td>2.4711</td>\n",
       "      <td>5.8097</td>\n",
       "    </tr>\n",
       "    <tr>\n",
       "      <th>4</th>\n",
       "      <td>1</td>\n",
       "      <td>3.3590</td>\n",
       "      <td>6.4423</td>\n",
       "    </tr>\n",
       "  </tbody>\n",
       "</table>\n",
       "</div>"
      ],
      "text/plain": [
       "   label      x1      x2\n",
       "0      1  2.6487  4.5192\n",
       "1      1  1.5438  2.4443\n",
       "2      1  1.8990  4.2409\n",
       "3      1  2.4711  5.8097\n",
       "4      1  3.3590  6.4423"
      ]
     },
     "execution_count": 7,
     "metadata": {},
     "output_type": "execute_result"
    }
   ],
   "source": [
    "# Read in the Data\n",
    "df = pd.read_csv('data/training_data.csv')\n",
    "df.head()"
   ]
  },
  {
   "cell_type": "code",
   "execution_count": 8,
   "id": "be8a3fdb-c228-4274-9c38-e266b6493c2e",
   "metadata": {},
   "outputs": [
    {
     "data": {
      "text/plain": [
       "<matplotlib.collections.PathCollection at 0x7990d75053d0>"
      ]
     },
     "execution_count": 8,
     "metadata": {},
     "output_type": "execute_result"
    },
    {
     "data": {
      "image/png": "[encoded data removed]",
      "text/plain": [
       "<Figure size 640x480 with 1 Axes>"
      ]
     },
     "metadata": {},
     "output_type": "display_data"
    }
   ],
   "source": [
    "# Visualization of labels\n",
    "plt.scatter(df.x1, df.x2, c=df.label)"
   ]
  },
  {
   "cell_type": "code",
   "execution_count": 10,
   "id": "3a284785-adbb-44ff-8753-3fee3e058070",
   "metadata": {},
   "outputs": [
    {
     "data": {
      "text/plain": [
       "array([[2.6487, 4.5192],\n",
       "       [1.5438, 2.4443],\n",
       "       [1.899 , 4.2409],\n",
       "       [2.4711, 5.8097],\n",
       "       [3.359 , 6.4423],\n",
       "       [3.2406, 5.8097],\n",
       "       [3.8128, 6.3917],\n",
       "       [4.4441, 6.8725],\n",
       "       [3.6747, 6.7966],\n",
       "       [7.5417, 4.0891],\n",
       "       [7.2063, 2.3937],\n",
       "       [6.5355, 1.331 ],\n",
       "       [5.4503, 1.7358],\n",
       "       [5.8449, 2.4443],\n",
       "       [4.8979, 3.1781],\n",
       "       [5.8055, 4.6711],\n",
       "       [7.3641, 5.9868],\n",
       "       [6.2592, 4.6711],\n",
       "       [8.3703, 7.581 ],\n",
       "       [8.5676, 4.6457],\n",
       "       [8.1676, 4.6457]])"
      ]
     },
     "execution_count": 10,
     "metadata": {},
     "output_type": "execute_result"
    }
   ],
   "source": [
    "# Prepare Inputs\n",
    "x_input = df[['x1', 'x2']].to_numpy()\n",
    "y_label = df[['label']].to_numpy()\n",
    "x_input"
   ]
  },
  {
   "cell_type": "code",
   "execution_count": 11,
   "id": "c653825a-a649-4f1a-92bd-ae6fc417e15f",
   "metadata": {},
   "outputs": [],
   "source": [
    "# Initialize variables\n",
    "x = tf.Variable(x_input)\n",
    "x = tf.cast(x, tf.float32)\n",
    "y = tf.Variable(y_label)\n",
    "y = tf.cast(y, tf.float32)"
   ]
  },
  {
   "cell_type": "code",
   "execution_count": 13,
   "id": "f7f6b0ea-01a7-4e39-b620-b7c491120f18",
   "metadata": {},
   "outputs": [],
   "source": [
    "# Train the model\n",
    "for i in range(1000):\n",
    "    optimizer.minimize(individual_loss, [weights, bias])"
   ]
  },
  {
   "cell_type": "code",
   "execution_count": 16,
   "id": "4d8ff097-c518-4e39-ad9b-df59268961c1",
   "metadata": {},
   "outputs": [
    {
     "name": "stdout",
     "output_type": "stream",
     "text": [
      "[[-2.42329025]\n",
      " [1.85045195]]\n",
      "[1.74988222]\n"
     ]
    }
   ],
   "source": [
    "# New Values for Weights and Bias\n",
    "tf.print(weights)\n",
    "tf.print(bias)"
   ]
  },
  {
   "cell_type": "code",
   "execution_count": 18,
   "id": "cf35cd12-915c-4665-afaa-e8cfa47c259c",
   "metadata": {},
   "outputs": [
    {
     "name": "stdout",
     "output_type": "stream",
     "text": [
      "0.534005582\n"
     ]
    }
   ],
   "source": [
    "# View the Final Loss\n",
    "final_loss = tf.reduce_mean(tf.nn.sigmoid_cross_entropy_with_logits(labels=y, logits=perceptron(x)))\n",
    "tf.print(final_loss)"
   ]
  },
  {
   "cell_type": "code",
   "execution_count": 23,
   "id": "c064026e-c963-4830-a339-fa94075be245",
   "metadata": {},
   "outputs": [],
   "source": [
    "# Predicting using the trained model\n",
    "y_prediction = perceptron(x)\n",
    "y_prediction_round = tf.round(y_prediction) # Round off the output value to 1 or 0, to make the comparison with the target easier"
   ]
  },
  {
   "cell_type": "code",
   "execution_count": 24,
   "id": "e4103a03-59fc-44fd-bfe8-e5b051873d46",
   "metadata": {},
   "outputs": [
    {
     "data": {
      "text/plain": [
       "1.0"
      ]
     },
     "execution_count": 24,
     "metadata": {},
     "output_type": "execute_result"
    }
   ],
   "source": [
    "# Evaluate the Model\n",
    "accuracy_score(y, y_prediction_round)"
   ]
  },
  {
   "cell_type": "code",
   "execution_count": 25,
   "id": "ff905c4a-0325-42c4-8971-b59122e721c2",
   "metadata": {},
   "outputs": [
    {
     "data": {
      "text/plain": [
       "array([[12,  0],\n",
       "       [ 0,  9]])"
      ]
     },
     "execution_count": 25,
     "metadata": {},
     "output_type": "execute_result"
    }
   ],
   "source": [
    "# Generate the confusion matrix \n",
    "confusion_matrix(y, y_prediction_round)"
   ]
  },
  {
   "cell_type": "code",
   "execution_count": null,
   "id": "5fa11b42-8a76-4742-89b0-52c7acdc9126",
   "metadata": {},
   "outputs": [],
   "source": []
  }
 ],
 "metadata": {
  "kernelspec": {
   "display_name": "deep-learning-env",
   "language": "python",
   "name": "deep-learning-env"
  },
  "language_info": {
   "codemirror_mode": {
    "name": "ipython",
    "version": 3
   },
   "file_extension": ".py",
   "mimetype": "text/x-python",
   "name": "python",
   "nbconvert_exporter": "python",
   "pygments_lexer": "ipython3",
   "version": "3.11.5"
  }
 },
 "nbformat": 4,
 "nbformat_minor": 5
}
